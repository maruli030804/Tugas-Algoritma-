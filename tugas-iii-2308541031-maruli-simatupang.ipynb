{
 "cells": [
  {
   "cell_type": "code",
   "execution_count": 1,
   "id": "0035bb7a",
   "metadata": {
    "_cell_guid": "b1076dfc-b9ad-4769-8c92-a6c4dae69d19",
    "_uuid": "8f2839f25d086af736a60e9eeb907d3b93b6e0e5",
    "execution": {
     "iopub.execute_input": "2024-03-31T14:40:14.025975Z",
     "iopub.status.busy": "2024-03-31T14:40:14.025500Z",
     "iopub.status.idle": "2024-03-31T14:40:14.961082Z",
     "shell.execute_reply": "2024-03-31T14:40:14.959913Z"
    },
    "papermill": {
     "duration": 0.945259,
     "end_time": "2024-03-31T14:40:14.964431",
     "exception": false,
     "start_time": "2024-03-31T14:40:14.019172",
     "status": "completed"
    },
    "tags": []
   },
   "outputs": [],
   "source": [
    "# This Python 3 environment comes with many helpful analytics libraries installed\n",
    "# It is defined by the kaggle/python Docker image: https://github.com/kaggle/docker-python\n",
    "# For example, here's several helpful packages to load\n",
    "\n",
    "import numpy as np # linear algebra\n",
    "import pandas as pd # data processing, CSV file I/O (e.g. pd.read_csv)\n",
    "\n",
    "# Input data files are available in the read-only \"../input/\" directory\n",
    "# For example, running this (by clicking run or pressing Shift+Enter) will list all files under the input directory\n",
    "\n",
    "import os\n",
    "for dirname, _, filenames in os.walk('/kaggle/input'):\n",
    "    for filename in filenames:\n",
    "        print(os.path.join(dirname, filename))\n",
    "\n",
    "# You can write up to 20GB to the current directory (/kaggle/working/) that gets preserved as output when you create a version using \"Save & Run All\" \n",
    "# You can also write temporary files to /kaggle/temp/, but they won't be saved outside of the current session"
   ]
  },
  {
   "cell_type": "code",
   "execution_count": 2,
   "id": "ee294f6b",
   "metadata": {
    "execution": {
     "iopub.execute_input": "2024-03-31T14:40:14.974026Z",
     "iopub.status.busy": "2024-03-31T14:40:14.973423Z",
     "iopub.status.idle": "2024-03-31T14:40:15.393424Z",
     "shell.execute_reply": "2024-03-31T14:40:15.391646Z"
    },
    "papermill": {
     "duration": 0.427078,
     "end_time": "2024-03-31T14:40:15.395390",
     "exception": true,
     "start_time": "2024-03-31T14:40:14.968312",
     "status": "failed"
    },
    "tags": []
   },
   "outputs": [
    {
     "ename": "StdinNotImplementedError",
     "evalue": "raw_input was called, but this frontend does not support input requests.",
     "output_type": "error",
     "traceback": [
      "\u001b[0;31m---------------------------------------------------------------------------\u001b[0m",
      "\u001b[0;31mStdinNotImplementedError\u001b[0m                  Traceback (most recent call last)",
      "Cell \u001b[0;32mIn[2], line 1\u001b[0m\n\u001b[0;32m----> 1\u001b[0m n \u001b[38;5;241m=\u001b[39m \u001b[38;5;28mfloat\u001b[39m(\u001b[38;5;28;43minput\u001b[39;49m\u001b[43m(\u001b[49m\u001b[38;5;124;43m\"\u001b[39;49m\u001b[38;5;124;43mtinggi badan anda adalah\u001b[39;49m\u001b[38;5;124;43m\"\u001b[39;49m\u001b[43m)\u001b[49m)\n\u001b[1;32m      2\u001b[0m \u001b[38;5;28;01mif\u001b[39;00m n \u001b[38;5;241m>\u001b[39m\u001b[38;5;241m=\u001b[39m \u001b[38;5;241m160\u001b[39m:\n\u001b[1;32m      3\u001b[0m     \u001b[38;5;28mprint\u001b[39m(\u001b[38;5;124m\"\u001b[39m\u001b[38;5;124mtinggi badan anda sangat bagus\u001b[39m\u001b[38;5;124m\"\u001b[39m)\n",
      "File \u001b[0;32m/opt/conda/lib/python3.10/site-packages/ipykernel/kernelbase.py:1261\u001b[0m, in \u001b[0;36mKernel.raw_input\u001b[0;34m(self, prompt)\u001b[0m\n\u001b[1;32m   1259\u001b[0m \u001b[38;5;28;01mif\u001b[39;00m \u001b[38;5;129;01mnot\u001b[39;00m \u001b[38;5;28mself\u001b[39m\u001b[38;5;241m.\u001b[39m_allow_stdin:\n\u001b[1;32m   1260\u001b[0m     msg \u001b[38;5;241m=\u001b[39m \u001b[38;5;124m\"\u001b[39m\u001b[38;5;124mraw_input was called, but this frontend does not support input requests.\u001b[39m\u001b[38;5;124m\"\u001b[39m\n\u001b[0;32m-> 1261\u001b[0m     \u001b[38;5;28;01mraise\u001b[39;00m StdinNotImplementedError(msg)\n\u001b[1;32m   1262\u001b[0m \u001b[38;5;28;01mreturn\u001b[39;00m \u001b[38;5;28mself\u001b[39m\u001b[38;5;241m.\u001b[39m_input_request(\n\u001b[1;32m   1263\u001b[0m     \u001b[38;5;28mstr\u001b[39m(prompt),\n\u001b[1;32m   1264\u001b[0m     \u001b[38;5;28mself\u001b[39m\u001b[38;5;241m.\u001b[39m_parent_ident[\u001b[38;5;124m\"\u001b[39m\u001b[38;5;124mshell\u001b[39m\u001b[38;5;124m\"\u001b[39m],\n\u001b[1;32m   1265\u001b[0m     \u001b[38;5;28mself\u001b[39m\u001b[38;5;241m.\u001b[39mget_parent(\u001b[38;5;124m\"\u001b[39m\u001b[38;5;124mshell\u001b[39m\u001b[38;5;124m\"\u001b[39m),\n\u001b[1;32m   1266\u001b[0m     password\u001b[38;5;241m=\u001b[39m\u001b[38;5;28;01mFalse\u001b[39;00m,\n\u001b[1;32m   1267\u001b[0m )\n",
      "\u001b[0;31mStdinNotImplementedError\u001b[0m: raw_input was called, but this frontend does not support input requests."
     ]
    }
   ],
   "source": [
    "n = float(input(\"tinggi badan anda adalah\"))\n",
    "if n >= 160:\n",
    "    print(\"tinggi badan anda sangat bagus\")\n",
    "    print(\"itu sangat bagus terus semangat nya\")"
   ]
  },
  {
   "cell_type": "code",
   "execution_count": null,
   "id": "2281209d",
   "metadata": {
    "execution": {
     "iopub.execute_input": "2024-03-31T11:55:35.102219Z",
     "iopub.status.busy": "2024-03-31T11:55:35.101810Z",
     "iopub.status.idle": "2024-03-31T11:55:39.016627Z",
     "shell.execute_reply": "2024-03-31T11:55:39.015531Z",
     "shell.execute_reply.started": "2024-03-31T11:55:35.102176Z"
    },
    "papermill": {
     "duration": null,
     "end_time": null,
     "exception": null,
     "start_time": null,
     "status": "pending"
    },
    "tags": []
   },
   "outputs": [],
   "source": [
    "n = float(input(\"anda terliat lebih gemuk, berapa berat badan anda\"))\n",
    "if n >= 50:\n",
    "    print(\"Berat anda terliat tidak normal tapi anda terlihat sehat\")\n",
    "    print(\"semangat nya jangan lupa olahraga yang rajin nya\")"
   ]
  },
  {
   "cell_type": "code",
   "execution_count": null,
   "id": "34215c7c",
   "metadata": {
    "execution": {
     "iopub.execute_input": "2024-03-31T11:48:18.409393Z",
     "iopub.status.busy": "2024-03-31T11:48:18.408704Z",
     "iopub.status.idle": "2024-03-31T11:48:25.783634Z",
     "shell.execute_reply": "2024-03-31T11:48:25.782412Z",
     "shell.execute_reply.started": "2024-03-31T11:48:18.409354Z"
    },
    "papermill": {
     "duration": null,
     "end_time": null,
     "exception": null,
     "start_time": null,
     "status": "pending"
    },
    "tags": []
   },
   "outputs": [],
   "source": [
    "n = float(input(\"tinggi badan anda adalah\"))\n",
    "if n < 160 and n >= 155:\n",
    "    print(\"tinggi badan anda normal\")\n",
    "    print(\"itu bagus terus tingkatin semangat nya\")"
   ]
  },
  {
   "cell_type": "code",
   "execution_count": null,
   "id": "25f497a1",
   "metadata": {
    "execution": {
     "iopub.execute_input": "2024-03-31T12:02:24.950598Z",
     "iopub.status.busy": "2024-03-31T12:02:24.950205Z",
     "iopub.status.idle": "2024-03-31T12:02:32.506530Z",
     "shell.execute_reply": "2024-03-31T12:02:32.505367Z",
     "shell.execute_reply.started": "2024-03-31T12:02:24.950569Z"
    },
    "papermill": {
     "duration": null,
     "end_time": null,
     "exception": null,
     "start_time": null,
     "status": "pending"
    },
    "tags": []
   },
   "outputs": [],
   "source": [
    "n = float(input(\"tinggi badan anda adalah\"))\n",
    "if n < 160 and n >= 155:\n",
    "    print(\"tinggi badan anda normal\")\n",
    "    print(\"itu bagus terus tingkatin semangat nya\")\n",
    "elif n == 180:\n",
    "    print(\"anda memiliki tinggi yang sangat bagus\")\n",
    "    print(\"anda terlihat seperti sering berolahraga \")"
   ]
  },
  {
   "cell_type": "code",
   "execution_count": null,
   "id": "2d4b74ee",
   "metadata": {
    "execution": {
     "iopub.execute_input": "2024-03-31T12:28:01.171048Z",
     "iopub.status.busy": "2024-03-31T12:28:01.170640Z",
     "iopub.status.idle": "2024-03-31T12:28:10.283890Z",
     "shell.execute_reply": "2024-03-31T12:28:10.282905Z",
     "shell.execute_reply.started": "2024-03-31T12:28:01.171016Z"
    },
    "papermill": {
     "duration": null,
     "end_time": null,
     "exception": null,
     "start_time": null,
     "status": "pending"
    },
    "tags": []
   },
   "outputs": [],
   "source": [
    "b = float(input(\"berapakah berat badan anda? \"))\n",
    "kg_atau_gram = input(\"berat nya kg atau gram? \")\n",
    "\n",
    "if kg_atau_gram.upper() == 'GRAM':\n",
    "    b = b/1000\n",
    "    print(\"berat badan anda adalah \" + str(b) + \"kg\")"
   ]
  },
  {
   "cell_type": "code",
   "execution_count": null,
   "id": "51b22585",
   "metadata": {
    "execution": {
     "iopub.execute_input": "2024-03-31T12:30:47.912947Z",
     "iopub.status.busy": "2024-03-31T12:30:47.912528Z",
     "iopub.status.idle": "2024-03-31T12:31:13.602503Z",
     "shell.execute_reply": "2024-03-31T12:31:13.601712Z",
     "shell.execute_reply.started": "2024-03-31T12:30:47.912913Z"
    },
    "papermill": {
     "duration": null,
     "end_time": null,
     "exception": null,
     "start_time": null,
     "status": "pending"
    },
    "tags": []
   },
   "outputs": [],
   "source": [
    "b = float(input(\"berapakah berat badan anda? \"))\n",
    "kg_atau_gram = input(\"berat nya kg atau gram? \")\n",
    "\n",
    "if kg_atau_gram.upper() == 'KG':\n",
    "    b = b*1000\n",
    "    print(\"berat anda adalah \" + str(b) + 'gram')\n",
    "elif kg_atau_gram.upper() == 'INCI':\n",
    "    b = b/1000\n",
    "    print(f\"tinggi anda adalah {b} kg\")"
   ]
  },
  {
   "cell_type": "code",
   "execution_count": null,
   "id": "5b79adc7",
   "metadata": {
    "execution": {
     "iopub.execute_input": "2024-03-31T12:38:11.293772Z",
     "iopub.status.busy": "2024-03-31T12:38:11.293009Z",
     "iopub.status.idle": "2024-03-31T12:38:11.299820Z",
     "shell.execute_reply": "2024-03-31T12:38:11.298599Z",
     "shell.execute_reply.started": "2024-03-31T12:38:11.293738Z"
    },
    "papermill": {
     "duration": null,
     "end_time": null,
     "exception": null,
     "start_time": null,
     "status": "pending"
    },
    "tags": []
   },
   "outputs": [],
   "source": [
    "y = 20\n",
    "while y < 50:\n",
    "    print(\"Angka \" + str(y) + \" masih dibawah 50 \")\n",
    "    y += 1"
   ]
  },
  {
   "cell_type": "code",
   "execution_count": null,
   "id": "b48cea6e",
   "metadata": {
    "execution": {
     "iopub.execute_input": "2024-03-31T14:28:48.368121Z",
     "iopub.status.busy": "2024-03-31T14:28:48.367705Z",
     "iopub.status.idle": "2024-03-31T14:28:48.406776Z",
     "shell.execute_reply": "2024-03-31T14:28:48.405713Z",
     "shell.execute_reply.started": "2024-03-31T14:28:48.368086Z"
    },
    "papermill": {
     "duration": null,
     "end_time": null,
     "exception": null,
     "start_time": null,
     "status": "pending"
    },
    "tags": []
   },
   "outputs": [],
   "source": [
    "y = 0\n",
    "while y < 1000:\n",
    "    print(\"angka \" + str(y) +\" masih di  bawah 1000\")\n",
    "    y += 20\n"
   ]
  },
  {
   "cell_type": "code",
   "execution_count": null,
   "id": "adaaf0c7",
   "metadata": {
    "papermill": {
     "duration": null,
     "end_time": null,
     "exception": null,
     "start_time": null,
     "status": "pending"
    },
    "tags": []
   },
   "outputs": [],
   "source": [
    "\n",
    "    "
   ]
  }
 ],
 "metadata": {
  "kaggle": {
   "accelerator": "none",
   "dataSources": [],
   "dockerImageVersionId": 30673,
   "isGpuEnabled": false,
   "isInternetEnabled": false,
   "language": "python",
   "sourceType": "notebook"
  },
  "kernelspec": {
   "display_name": "Python 3",
   "language": "python",
   "name": "python3"
  },
  "language_info": {
   "codemirror_mode": {
    "name": "ipython",
    "version": 3
   },
   "file_extension": ".py",
   "mimetype": "text/x-python",
   "name": "python",
   "nbconvert_exporter": "python",
   "pygments_lexer": "ipython3",
   "version": "3.10.13"
  },
  "papermill": {
   "default_parameters": {},
   "duration": 4.915067,
   "end_time": "2024-03-31T14:40:16.030010",
   "environment_variables": {},
   "exception": true,
   "input_path": "__notebook__.ipynb",
   "output_path": "__notebook__.ipynb",
   "parameters": {},
   "start_time": "2024-03-31T14:40:11.114943",
   "version": "2.5.0"
  }
 },
 "nbformat": 4,
 "nbformat_minor": 5
}
