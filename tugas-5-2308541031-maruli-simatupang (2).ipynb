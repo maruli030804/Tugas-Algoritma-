{
 "cells": [
  {
   "cell_type": "code",
   "execution_count": 1,
   "id": "a378a218",
   "metadata": {
    "execution": {
     "iopub.execute_input": "2024-04-23T15:35:21.602284Z",
     "iopub.status.busy": "2024-04-23T15:35:21.601851Z",
     "iopub.status.idle": "2024-04-23T15:35:22.176703Z",
     "shell.execute_reply": "2024-04-23T15:35:22.175423Z"
    },
    "papermill": {
     "duration": 0.584638,
     "end_time": "2024-04-23T15:35:22.178683",
     "exception": true,
     "start_time": "2024-04-23T15:35:21.594045",
     "status": "failed"
    },
    "tags": []
   },
   "outputs": [
    {
     "ename": "StdinNotImplementedError",
     "evalue": "raw_input was called, but this frontend does not support input requests.",
     "output_type": "error",
     "traceback": [
      "\u001b[0;31m---------------------------------------------------------------------------\u001b[0m",
      "\u001b[0;31mStdinNotImplementedError\u001b[0m                  Traceback (most recent call last)",
      "Cell \u001b[0;32mIn[1], line 1\u001b[0m\n\u001b[0;32m----> 1\u001b[0m nama \u001b[38;5;241m=\u001b[39m \u001b[38;5;28;43minput\u001b[39;49m\u001b[43m(\u001b[49m\u001b[38;5;124;43m\"\u001b[39;49m\u001b[38;5;124;43mnama anda adalah\u001b[39;49m\u001b[38;5;124;43m\"\u001b[39;49m\u001b[43m)\u001b[49m\n\u001b[1;32m      2\u001b[0m nim \u001b[38;5;241m=\u001b[39m \u001b[38;5;28minput\u001b[39m(\u001b[38;5;124m\"\u001b[39m\u001b[38;5;124mnim anda adalah\u001b[39m\u001b[38;5;124m\"\u001b[39m)\n\u001b[1;32m      3\u001b[0m \u001b[38;5;28mprint\u001b[39m(nama \u001b[38;5;241m+\u001b[39m \u001b[38;5;124m\"\u001b[39m\u001b[38;5;124mdengan nim \u001b[39m\u001b[38;5;124m\"\u001b[39m \u001b[38;5;241m+\u001b[39m nim \u001b[38;5;241m+\u001b[39m \u001b[38;5;124m\"\u001b[39m\u001b[38;5;124mSaya mohon maaf pak bahwa programnya terus berlanjut pak \u001b[39m\u001b[38;5;124m\"\u001b[39m)\n",
      "File \u001b[0;32m/opt/conda/lib/python3.10/site-packages/ipykernel/kernelbase.py:1261\u001b[0m, in \u001b[0;36mKernel.raw_input\u001b[0;34m(self, prompt)\u001b[0m\n\u001b[1;32m   1259\u001b[0m \u001b[38;5;28;01mif\u001b[39;00m \u001b[38;5;129;01mnot\u001b[39;00m \u001b[38;5;28mself\u001b[39m\u001b[38;5;241m.\u001b[39m_allow_stdin:\n\u001b[1;32m   1260\u001b[0m     msg \u001b[38;5;241m=\u001b[39m \u001b[38;5;124m\"\u001b[39m\u001b[38;5;124mraw_input was called, but this frontend does not support input requests.\u001b[39m\u001b[38;5;124m\"\u001b[39m\n\u001b[0;32m-> 1261\u001b[0m     \u001b[38;5;28;01mraise\u001b[39;00m StdinNotImplementedError(msg)\n\u001b[1;32m   1262\u001b[0m \u001b[38;5;28;01mreturn\u001b[39;00m \u001b[38;5;28mself\u001b[39m\u001b[38;5;241m.\u001b[39m_input_request(\n\u001b[1;32m   1263\u001b[0m     \u001b[38;5;28mstr\u001b[39m(prompt),\n\u001b[1;32m   1264\u001b[0m     \u001b[38;5;28mself\u001b[39m\u001b[38;5;241m.\u001b[39m_parent_ident[\u001b[38;5;124m\"\u001b[39m\u001b[38;5;124mshell\u001b[39m\u001b[38;5;124m\"\u001b[39m],\n\u001b[1;32m   1265\u001b[0m     \u001b[38;5;28mself\u001b[39m\u001b[38;5;241m.\u001b[39mget_parent(\u001b[38;5;124m\"\u001b[39m\u001b[38;5;124mshell\u001b[39m\u001b[38;5;124m\"\u001b[39m),\n\u001b[1;32m   1266\u001b[0m     password\u001b[38;5;241m=\u001b[39m\u001b[38;5;28;01mFalse\u001b[39;00m,\n\u001b[1;32m   1267\u001b[0m )\n",
      "\u001b[0;31mStdinNotImplementedError\u001b[0m: raw_input was called, but this frontend does not support input requests."
     ]
    }
   ],
   "source": [
    "nama = input(\"nama anda adalah\")\n",
    "nim = input(\"nim anda adalah\")\n",
    "print(nama + \"dengan nim \" + nim + \"Saya mohon maaf pak bahwa programnya terus berlanjut pak \")"
   ]
  },
  {
   "cell_type": "code",
   "execution_count": null,
   "id": "cdeb4e63",
   "metadata": {
    "_cell_guid": "b1076dfc-b9ad-4769-8c92-a6c4dae69d19",
    "_uuid": "8f2839f25d086af736a60e9eeb907d3b93b6e0e5",
    "execution": {
     "iopub.execute_input": "2024-04-22T11:23:26.872349Z",
     "iopub.status.busy": "2024-04-22T11:23:26.871940Z",
     "iopub.status.idle": "2024-04-22T11:23:39.557301Z",
     "shell.execute_reply": "2024-04-22T11:23:39.556247Z",
     "shell.execute_reply.started": "2024-04-22T11:23:26.872321Z"
    },
    "papermill": {
     "duration": null,
     "end_time": null,
     "exception": null,
     "start_time": null,
     "status": "pending"
    },
    "tags": []
   },
   "outputs": [],
   "source": [
    "harga_perbuah = input(\"buah durian memiliki harga\")\n",
    "harga_perlusin = input(\"namun kalo anda membeli perlusin dikenakan harga harga\")\n",
    "selisih_harga = int(harga_perlusin) - int(harga_perbuah)\n",
    "print(\"selisih harga durian tersebut adalah \" + str(jumlah_selisih_harga))\n",
    "perbandingan_harga = int(harga_perbuah) / int(harga_perlusin)\n",
    "print(\"perbandingan harga durian tersebut adalah \" + str( perbandingan_harga))"
   ]
  },
  {
   "cell_type": "code",
   "execution_count": null,
   "id": "6030b665",
   "metadata": {
    "execution": {
     "iopub.execute_input": "2024-04-22T11:23:50.730796Z",
     "iopub.status.busy": "2024-04-22T11:23:50.730438Z",
     "iopub.status.idle": "2024-04-22T11:24:25.914761Z",
     "shell.execute_reply": "2024-04-22T11:24:25.914008Z",
     "shell.execute_reply.started": "2024-04-22T11:23:50.730767Z"
    },
    "papermill": {
     "duration": null,
     "end_time": null,
     "exception": null,
     "start_time": null,
     "status": "pending"
    },
    "tags": []
   },
   "outputs": [],
   "source": [
    "harga_rokok_A_a = input(\"harga rokok X di toko A adalah\")\n",
    "harga_rokok_A_b = input(\"harga untuk rokok Y nya adalah\")\n",
    "harga_rokok_B_a = input(\"harga rokok X di toko B adalah\")\n",
    "harga_rokok_B_b = input(\"harga untuk rokok Y \")\n",
    "jumlah_rokok_A_A = int(harga_rokok_A_a) * 3 + int(harga_rokok_A_b) * 5\n",
    "print(\"pak andi membeli 3 rokok X dan 5 rokok Y untuk keseharinnya jadi jumlah yang harus di bayar pak andi adalah \" + str(jumlah_rokok_A_A))\n",
    "jumlah_rokok_B_B = int(harga_rokok_B_a) * 12 + int(harga_rokok_B_b) * 6\n",
    "print(\"kemudian sore harinya pak andi membeli rokok X selusin dan rokok Y 6 di toko B total belanja pak andi adalah \" + str( jumlah_rokok_B_B))\n",
    "total_belanja_pak_Andi = str(jumlah_rokok_A_A) + str(jumlah_rokok_B_B)\n",
    "print(total_belanja_pak_Andi)\n",
    "selisih_A_dan_B = int(harga_rokok_A_a) - int(harga_rokok_B_a)\n",
    "print(selisih_A_dan_B)"
   ]
  },
  {
   "cell_type": "code",
   "execution_count": null,
   "id": "a935a299",
   "metadata": {
    "execution": {
     "iopub.execute_input": "2024-04-22T12:13:13.025055Z",
     "iopub.status.busy": "2024-04-22T12:13:13.024564Z",
     "iopub.status.idle": "2024-04-22T12:13:52.462920Z",
     "shell.execute_reply": "2024-04-22T12:13:52.460800Z",
     "shell.execute_reply.started": "2024-04-22T12:13:13.025023Z"
    },
    "papermill": {
     "duration": null,
     "end_time": null,
     "exception": null,
     "start_time": null,
     "status": "pending"
    },
    "tags": []
   },
   "outputs": [],
   "source": [
    "beras_merek_a = input(\"suatu hari pak tanto membeli berak dengan merek a seharga \")\n",
    "beras_merek_b = input(\"seminggu setelah nya pak tanto membeli beras lagi dengan merek b seharga\")\n",
    "harga_telur = input(\"harga telur \")\n",
    "harga_gula_perkilo = input(\"harga gula perkilo \")\n",
    "total_belanja_pak_tanto = float(beras_merek_a) + float(beras_merek_b) * 2 + float(harga_telur) * 5 + float(harga_gula_perkilo)\n",
    "uang_yang_dibawa_pak_tanto = input(\"uang pak tanto \")\n",
    "total_uang_kembalian_pak_tanto = float(uang_yang_dibawa_pak_tanto) - float(total_belanja_pak_tanto)\n",
    "print(\"diketahui:\")\n",
    "print(\"harga beras a \" + beras_merek_a)\n",
    "print(\"harga beras merek b \" + beras_merek_b)\n",
    "print(\"harga telur perkilo \" + harga_telur)\n",
    "print(\"harga gula perkilo \" + harga_gula_perkilo)\n",
    "print(\"Penyelesaian:\")\n",
    "print(\"suatu hari pak tanto ingin membayar utangnya ke toko tersebut. Pak tanto berhutang 1 karung beras merek a, 2 karung beras merek b, 2 kilogram telur dan juga 5 kilogram gula maka jumlah hutang pak tanto sebesar \" + str(total_belanja_pak_tanto))\n",
    "print(\"pak tanto membawa uang sebanyak 1000000 maka kembalian uang pak tanto sebanyak \" + str(total_uang_kembalian_pak_tanto))"
   ]
  },
  {
   "cell_type": "code",
   "execution_count": null,
   "id": "e9f69126",
   "metadata": {
    "execution": {
     "iopub.execute_input": "2024-04-23T13:00:54.688643Z",
     "iopub.status.busy": "2024-04-23T13:00:54.688239Z",
     "iopub.status.idle": "2024-04-23T13:00:54.696681Z",
     "shell.execute_reply": "2024-04-23T13:00:54.694957Z",
     "shell.execute_reply.started": "2024-04-23T13:00:54.688612Z"
    },
    "papermill": {
     "duration": null,
     "end_time": null,
     "exception": null,
     "start_time": null,
     "status": "pending"
    },
    "tags": []
   },
   "outputs": [],
   "source": [
    "range_A = range(12546,13325)\n",
    "angka == range_A[0]\n",
    "for angka_tengah in ranga_A:\n",
    "    if angka_tengah == angka:\n",
    "        angka == angka_tengah\n",
    "print(angka_tengah)"
   ]
  },
  {
   "cell_type": "code",
   "execution_count": null,
   "id": "60446e7c",
   "metadata": {
    "execution": {
     "iopub.execute_input": "2024-04-23T13:01:31.746068Z",
     "iopub.status.busy": "2024-04-23T13:01:31.745632Z",
     "iopub.status.idle": "2024-04-23T13:01:31.755663Z",
     "shell.execute_reply": "2024-04-23T13:01:31.754346Z",
     "shell.execute_reply.started": "2024-04-23T13:01:31.746035Z"
    },
    "papermill": {
     "duration": null,
     "end_time": null,
     "exception": null,
     "start_time": null,
     "status": "pending"
    },
    "tags": []
   },
   "outputs": [],
   "source": [
    "soal = ('diberikan angka dari 12546 sampai dengan 15325. Pak Andi menanyakan dari  angka angka tersebut tentukan angka angka yang merupakan kelipatan 13')\n",
    "angka = range(12546, 15325)\n",
    "print(angka)\n",
    "for kelipatan in range(12546,15325,12):\n",
    "    print(kelipatan)"
   ]
  },
  {
   "cell_type": "code",
   "execution_count": null,
   "id": "2aac0dcc",
   "metadata": {
    "execution": {
     "iopub.execute_input": "2024-04-23T13:11:52.532507Z",
     "iopub.status.busy": "2024-04-23T13:11:52.532154Z",
     "iopub.status.idle": "2024-04-23T13:11:52.538947Z",
     "shell.execute_reply": "2024-04-23T13:11:52.537830Z",
     "shell.execute_reply.started": "2024-04-23T13:11:52.532481Z"
    },
    "papermill": {
     "duration": null,
     "end_time": null,
     "exception": null,
     "start_time": null,
     "status": "pending"
    },
    "tags": []
   },
   "outputs": [],
   "source": [
    "range_A = range(200,300,5)\n",
    "angka = range_A[0]\n",
    "for angka_terkecil in range(len(range_A)):\n",
    "    if range_A[angka_terkecil] < angka:\n",
    "        angka > angka_terkecil\n",
    "print(angka_terkecil)"
   ]
  },
  {
   "cell_type": "code",
   "execution_count": null,
   "id": "17ac450f",
   "metadata": {
    "execution": {
     "iopub.execute_input": "2024-04-23T13:31:21.338318Z",
     "iopub.status.busy": "2024-04-23T13:31:21.337838Z",
     "iopub.status.idle": "2024-04-23T13:31:21.345321Z",
     "shell.execute_reply": "2024-04-23T13:31:21.343993Z",
     "shell.execute_reply.started": "2024-04-23T13:31:21.338283Z"
    },
    "papermill": {
     "duration": null,
     "end_time": null,
     "exception": null,
     "start_time": null,
     "status": "pending"
    },
    "tags": []
   },
   "outputs": [],
   "source": [
    "range_b = range(5,25,2)\n",
    "angka_bagus = []\n",
    "for bagian in range_b:\n",
    "    if bagian not in angka_bagus:\n",
    "        angka_bagus.append(bagian)\n",
    "print(angka_bagus)\n",
    "a = 12435\n",
    "b = 13546\n",
    "print(b % a)"
   ]
  },
  {
   "cell_type": "code",
   "execution_count": null,
   "id": "8191adc5",
   "metadata": {
    "execution": {
     "iopub.execute_input": "2024-04-23T14:50:25.166278Z",
     "iopub.status.busy": "2024-04-23T14:50:25.165905Z",
     "iopub.status.idle": "2024-04-23T14:50:25.173505Z",
     "shell.execute_reply": "2024-04-23T14:50:25.172302Z",
     "shell.execute_reply.started": "2024-04-23T14:50:25.166251Z"
    },
    "papermill": {
     "duration": null,
     "end_time": null,
     "exception": null,
     "start_time": null,
     "status": "pending"
    },
    "tags": []
   },
   "outputs": [],
   "source": [
    "huruf = range(c,15)\n",
    "print(huruf)\n",
    "for bagian in range(a, 50, 3):\n",
    "    print(bagian)\n",
    "for bagian_1 in range(3,19,3):\n",
    "    print(bagian_1)\n",
    "print(\"buk dayu memiliki 7 orang anak bernama bernama dayu, adit, yuri, mamang, asep, noel dan anak terkakhir bernama yuno\")\n",
    "nama_anak_buk_Dayu = (\"dayu , adit , yuri , mamang , asep , noel , yuno\")\n",
    "for bagian in nama_anak_buk_Dayu[16]:\n",
    "    print(bagian)\n",
    "bilangan_prima = (37 , 3 , 19 , 11 , 13 )\n",
    "for bagian in bilangan_prima[1:3]:\n",
    "    print(bagian)"
   ]
  },
  {
   "cell_type": "code",
   "execution_count": null,
   "id": "121e5986",
   "metadata": {
    "execution": {
     "iopub.execute_input": "2024-04-23T14:15:42.291915Z",
     "iopub.status.busy": "2024-04-23T14:15:42.291499Z",
     "iopub.status.idle": "2024-04-23T14:15:42.301457Z",
     "shell.execute_reply": "2024-04-23T14:15:42.300131Z",
     "shell.execute_reply.started": "2024-04-23T14:15:42.291882Z"
    },
    "papermill": {
     "duration": null,
     "end_time": null,
     "exception": null,
     "start_time": null,
     "status": "pending"
    },
    "tags": []
   },
   "outputs": [],
   "source": [
    "print(\"diberikan dua matriks dinamakan matrik A dan juga matriks B. Kedua Matriks tersebut berordo 5*5 Tentukan hasil kali kedua matriks tersebut\")\n",
    "matriks_A = [\n",
    "    [2,4,6],\n",
    "    [-3,4,3],\n",
    "    [7,9,2]\n",
    "]\n",
    "matriks_B = [\n",
    "    [13,2,11],\n",
    "    [4,-7,8],\n",
    "    [0,-5,10]\n",
    "]\n",
    "\n",
    "matriks_C = []\n",
    "\n",
    "\n",
    "for a in range(0, len(matriks_A)):\n",
    "    row = []\n",
    "    for b in range(0, len(matriks_B)):\n",
    "        total = 0\n",
    "        for c in range(0, len(matriks_A)):\n",
    "            total = total + (matriks_A[a][c] * matriks_B[b][c])\n",
    "        row.append(total)\n",
    "    matriks_C.append(row)\n",
    "    \n",
    "for a in range(0, len(matriks_C)):\n",
    "    for b in range(0, len(matriks_C)):\n",
    "        print(matriks_C[a][b], end=' ')\n",
    "        print ()"
   ]
  },
  {
   "cell_type": "code",
   "execution_count": null,
   "id": "f2c291de",
   "metadata": {
    "execution": {
     "iopub.execute_input": "2024-04-23T15:20:46.598619Z",
     "iopub.status.busy": "2024-04-23T15:20:46.598245Z",
     "iopub.status.idle": "2024-04-23T15:20:50.063707Z",
     "shell.execute_reply": "2024-04-23T15:20:50.062653Z",
     "shell.execute_reply.started": "2024-04-23T15:20:46.598593Z"
    },
    "papermill": {
     "duration": null,
     "end_time": null,
     "exception": null,
     "start_time": null,
     "status": "pending"
    },
    "tags": []
   },
   "outputs": [],
   "source": [
    "data_pribadi = {\n",
    "    \"nama\" : \"Julian Maruli Tua Simatupang\",\n",
    "    \"nim\" : 2308541031 ,\n",
    "    \"status\" : \"mahasiswa\" ,\n",
    "    \"institut\" : \"universitas UDAYANA\" ,\n",
    "    \"alamat\" : \"Jalan Dukuh Sari Jalan raya Sasetan\",\n",
    "    \"hobby\" : \"bermain futsal & bermain gitar\" ,\n",
    "    \"alamat email\" : \"marudisimatupang@gmail.com\"\n",
    "    \n",
    "}\n",
    "print(data_pribadi)\n",
    "print(data_pribadi.get(\"hobby lain saya\" , \"saya sangat senang melihat langit di siang hari\"))\n",
    "huruf = {\n",
    "    \"a\" : \"saya\",\n",
    "    \"b\" : \"waktu\" ,\n",
    "    \"c\" : \"senang\" ,\n",
    "    \"d\" : \"sekolah\",\n",
    "    \"e\" : \"panas-panas\",\n",
    "    \"e\" : \"jam kosong\",\n",
    "    \"f\" : \"pulang\", \n",
    "    \"g\" : \"kesungai\",\n",
    "    \"h\" : \"teman-teman\",\n",
    "    \"i\" : \"berenang\",\n",
    "    \"j\" : \"sore\",\n",
    "    \"k\" : \"bermain bola\",\n",
    "    \"l\" : \"kami\",\n",
    "    \"m\" : \"sangat\",\n",
    "    \"n\" : \"menyenangkan\",\n",
    "    \"o\" : \"yang\"\n",
    "}\n",
    "nama_anda = input(\"nama anda adalah\")\n",
    "nama_tambahan = \" \"\n",
    "for nama in nama_anda:\n",
    "    nama_tambahan += huruf.get(nama) + \" \"\n",
    "print(nama_tambahan)"
   ]
  },
  {
   "cell_type": "code",
   "execution_count": null,
   "id": "1fb58c1a",
   "metadata": {
    "execution": {
     "iopub.execute_input": "2024-04-23T15:27:22.993965Z",
     "iopub.status.busy": "2024-04-23T15:27:22.992944Z",
     "iopub.status.idle": "2024-04-23T15:27:22.998929Z",
     "shell.execute_reply": "2024-04-23T15:27:22.998150Z",
     "shell.execute_reply.started": "2024-04-23T15:27:22.993922Z"
    },
    "papermill": {
     "duration": null,
     "end_time": null,
     "exception": null,
     "start_time": null,
     "status": "pending"
    },
    "tags": []
   },
   "outputs": [],
   "source": [
    "def name(first_name, last_name):\n",
    "    print(f\"nama lengkapmya adalah {nama_depan} {nama_belakang}\")"
   ]
  },
  {
   "cell_type": "code",
   "execution_count": null,
   "id": "91e19f6a",
   "metadata": {
    "papermill": {
     "duration": null,
     "end_time": null,
     "exception": null,
     "start_time": null,
     "status": "pending"
    },
    "tags": []
   },
   "outputs": [],
   "source": []
  }
 ],
 "metadata": {
  "kaggle": {
   "accelerator": "none",
   "dataSources": [],
   "dockerImageVersionId": 30698,
   "isGpuEnabled": false,
   "isInternetEnabled": false,
   "language": "python",
   "sourceType": "notebook"
  },
  "kernelspec": {
   "display_name": "Python 3",
   "language": "python",
   "name": "python3"
  },
  "language_info": {
   "codemirror_mode": {
    "name": "ipython",
    "version": 3
   },
   "file_extension": ".py",
   "mimetype": "text/x-python",
   "name": "python",
   "nbconvert_exporter": "python",
   "pygments_lexer": "ipython3",
   "version": "3.10.13"
  },
  "papermill": {
   "default_parameters": {},
   "duration": 4.875605,
   "end_time": "2024-04-23T15:35:22.707840",
   "environment_variables": {},
   "exception": true,
   "input_path": "__notebook__.ipynb",
   "output_path": "__notebook__.ipynb",
   "parameters": {},
   "start_time": "2024-04-23T15:35:17.832235",
   "version": "2.5.0"
  }
 },
 "nbformat": 4,
 "nbformat_minor": 5
}
