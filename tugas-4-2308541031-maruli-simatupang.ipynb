{
 "cells": [
  {
   "cell_type": "code",
   "execution_count": 1,
   "id": "451262ce",
   "metadata": {
    "_cell_guid": "b1076dfc-b9ad-4769-8c92-a6c4dae69d19",
    "_uuid": "8f2839f25d086af736a60e9eeb907d3b93b6e0e5",
    "execution": {
     "iopub.execute_input": "2024-04-11T07:48:33.739685Z",
     "iopub.status.busy": "2024-04-11T07:48:33.739115Z",
     "iopub.status.idle": "2024-04-11T07:48:35.008566Z",
     "shell.execute_reply": "2024-04-11T07:48:35.007291Z"
    },
    "papermill": {
     "duration": 1.279216,
     "end_time": "2024-04-11T07:48:35.011644",
     "exception": false,
     "start_time": "2024-04-11T07:48:33.732428",
     "status": "completed"
    },
    "tags": []
   },
   "outputs": [],
   "source": [
    "# This Python 3 environment comes with many helpful analytics libraries installed\n",
    "# It is defined by the kaggle/python Docker image: https://github.com/kaggle/docker-python\n",
    "# For example, here's several helpful packages to load\n",
    "\n",
    "import numpy as np # linear algebra\n",
    "import pandas as pd # data processing, CSV file I/O (e.g. pd.read_csv)\n",
    "\n",
    "# Input data files are available in the read-only \"../input/\" directory\n",
    "# For example, running this (by clicking run or pressing Shift+Enter) will list all files under the input directory\n",
    "\n",
    "import os\n",
    "for dirname, _, filenames in os.walk('/kaggle/input'):\n",
    "    for filename in filenames:\n",
    "        print(os.path.join(dirname, filename))\n",
    "\n",
    "# You can write up to 20GB to the current directory (/kaggle/working/) that gets preserved as output when you create a version using \"Save & Run All\" \n",
    "# You can also write temporary files to /kaggle/temp/, but they won't be saved outside of the current session"
   ]
  },
  {
   "cell_type": "code",
   "execution_count": 2,
   "id": "d3f5917c",
   "metadata": {
    "execution": {
     "iopub.execute_input": "2024-04-11T07:48:35.020277Z",
     "iopub.status.busy": "2024-04-11T07:48:35.019631Z",
     "iopub.status.idle": "2024-04-11T07:48:35.028307Z",
     "shell.execute_reply": "2024-04-11T07:48:35.027063Z"
    },
    "papermill": {
     "duration": 0.016539,
     "end_time": "2024-04-11T07:48:35.031321",
     "exception": false,
     "start_time": "2024-04-11T07:48:35.014782",
     "status": "completed"
    },
    "tags": []
   },
   "outputs": [
    {
     "name": "stdout",
     "output_type": "stream",
     "text": [
      "senin\n",
      "('senin', 'selasa', 'rabu', 'kamis', 'jumat', 'sabtu', 'minggu')\n",
      "rabu\n",
      "jumat\n",
      "('selasa', 'rabu', 'kamis', 'jumat')\n",
      "('rabu', 'kamis')\n",
      "()\n",
      "('rabu',)\n"
     ]
    }
   ],
   "source": [
    "Tp = ('senin', 'selasa', 'rabu', 'kamis', 'jumat', 'sabtu','minggu')\n",
    "print(Tp[0])\n",
    "print(Tp)\n",
    "print(Tp[2])\n",
    "print(Tp[-3])\n",
    "print(Tp[1:-2])\n",
    "print(Tp[2:-3])\n",
    "print(Tp[1:-1:-2])\n",
    "print(Tp[2:1:-1])"
   ]
  },
  {
   "cell_type": "code",
   "execution_count": 3,
   "id": "15e6604b",
   "metadata": {
    "execution": {
     "iopub.execute_input": "2024-04-11T07:48:35.039205Z",
     "iopub.status.busy": "2024-04-11T07:48:35.038695Z",
     "iopub.status.idle": "2024-04-11T07:48:35.049852Z",
     "shell.execute_reply": "2024-04-11T07:48:35.047797Z"
    },
    "papermill": {
     "duration": 0.018967,
     "end_time": "2024-04-11T07:48:35.053300",
     "exception": false,
     "start_time": "2024-04-11T07:48:35.034333",
     "status": "completed"
    },
    "tags": []
   },
   "outputs": [
    {
     "name": "stdout",
     "output_type": "stream",
     "text": [
      "['kadal', 'ular', 'cicak', 'buaya', 'ikan', 'burung', 'macan']\n",
      "['kadal', 'ular', 'lebah', 'cicak', 'buaya', 'ikan', 'burung', 'macan']\n",
      "['kadal', 'ular', 'lebah', 'cicak', 'buaya', 'cacing', 'burung', 'macan']\n",
      "['kadal', 'lebah', 'cicak', 'buaya', 'ayam', 'cacing', 'burung', 'macan', 'rubah']\n",
      "True\n",
      "True\n",
      "False\n",
      "False\n",
      "False\n",
      "9\n"
     ]
    }
   ],
   "source": [
    "op = ['kadal','ular','cicak','buaya','ikan','burung']\n",
    "op.append('macan')\n",
    "print(op)\n",
    "op.insert(2,'lebah')\n",
    "print(op)\n",
    "op.insert(-2,'cacing')\n",
    "op.remove('ikan')\n",
    "print(op)\n",
    "op.append('rubah')\n",
    "op.insert(5,'ayam')\n",
    "op.remove('ular')\n",
    "print(op)\n",
    "print('ayam' in op)\n",
    "print('burung' in op)\n",
    "print('Kadal' in op)\n",
    "print('cicAk' in op)\n",
    "print('ular' in op)\n",
    "print(len(op))"
   ]
  },
  {
   "cell_type": "code",
   "execution_count": 4,
   "id": "43e3039e",
   "metadata": {
    "execution": {
     "iopub.execute_input": "2024-04-11T07:48:35.061517Z",
     "iopub.status.busy": "2024-04-11T07:48:35.060935Z",
     "iopub.status.idle": "2024-04-11T07:48:35.069676Z",
     "shell.execute_reply": "2024-04-11T07:48:35.068213Z"
    },
    "papermill": {
     "duration": 0.016321,
     "end_time": "2024-04-11T07:48:35.072719",
     "exception": false,
     "start_time": "2024-04-11T07:48:35.056398",
     "status": "completed"
    },
    "tags": []
   },
   "outputs": [
    {
     "name": "stdout",
     "output_type": "stream",
     "text": [
      "burung puyuh\n",
      "ayam\n",
      "angsa\n",
      "angsa\n",
      "bebek\n",
      "burung merpati\n",
      "burung elang\n",
      "burung gagak\n",
      "ayam\n",
      "angsa\n",
      "burung merpati\n",
      "burung gagak\n",
      "burung puyuh\n",
      "angsa\n",
      "burung elang\n"
     ]
    }
   ],
   "source": [
    "b = ['burung puyuh','ayam','angsa','angsa','bebek','burung merpati','burung elang','burung gagak']\n",
    "for kelas in b:\n",
    "    print(kelas)\n",
    "d = 1\n",
    "while d < len(b):\n",
    "    print(b[d])\n",
    "    d+=2\n",
    "c = 0\n",
    "while c < len(b):\n",
    "    print(b[c])\n",
    "    c+=3\n",
    "\n"
   ]
  }
 ],
 "metadata": {
  "kaggle": {
   "accelerator": "none",
   "dataSources": [],
   "dockerImageVersionId": 30684,
   "isGpuEnabled": false,
   "isInternetEnabled": false,
   "language": "python",
   "sourceType": "notebook"
  },
  "kernelspec": {
   "display_name": "Python 3",
   "language": "python",
   "name": "python3"
  },
  "language_info": {
   "codemirror_mode": {
    "name": "ipython",
    "version": 3
   },
   "file_extension": ".py",
   "mimetype": "text/x-python",
   "name": "python",
   "nbconvert_exporter": "python",
   "pygments_lexer": "ipython3",
   "version": "3.10.13"
  },
  "papermill": {
   "default_parameters": {},
   "duration": 8.297931,
   "end_time": "2024-04-11T07:48:38.296351",
   "environment_variables": {},
   "exception": null,
   "input_path": "__notebook__.ipynb",
   "output_path": "__notebook__.ipynb",
   "parameters": {},
   "start_time": "2024-04-11T07:48:29.998420",
   "version": "2.5.0"
  }
 },
 "nbformat": 4,
 "nbformat_minor": 5
}
